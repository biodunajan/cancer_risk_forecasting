{
 "cells": [
  {
   "cell_type": "code",
   "execution_count": null,
   "id": "af213639",
   "metadata": {},
   "outputs": [],
   "source": [
    "#Cancer Risk (in Adults) Prediction System Using Machine Learning"
   ]
  },
  {
   "cell_type": "code",
   "execution_count": null,
   "id": "13695e93",
   "metadata": {},
   "outputs": [],
   "source": [
    "#The problem statement is to predict the risk of cancer in adults using demographic, clinical history, #socio-economic\n",
    "#and lifestyle data. The variables include Age, Gender, Use of tobacco, smoking habit, family history, physical activity, #dietary, type of occupation, family income and amount of sunburn"
   ]
  },
  {
   "cell_type": "code",
   "execution_count": null,
   "id": "62115a34",
   "metadata": {},
   "outputs": [],
   "source": [
    "#Importing useful libraries"
   ]
  },
  {
   "cell_type": "code",
   "execution_count": null,
   "id": "5c3fc543",
   "metadata": {},
   "outputs": [],
   "source": [
    "import pandas as pd\n",
    "import numpy as np\n",
    "import matplotlib.pyplot as plt\n",
    "import seaborn as sns\n",
    "plt.style.use(\"seaborn-whitegrid\")"
   ]
  },
  {
   "cell_type": "code",
   "execution_count": null,
   "id": "9c976474",
   "metadata": {},
   "outputs": [],
   "source": [
    "#Reading the data"
   ]
  },
  {
   "cell_type": "code",
   "execution_count": null,
   "id": "b0af66e0",
   "metadata": {},
   "outputs": [],
   "source": [
    "df = pd.read_csv(\"cancer_dataset.csv\")\n",
    "df.head()"
   ]
  },
  {
   "cell_type": "code",
   "execution_count": null,
   "id": "c37ededc",
   "metadata": {},
   "outputs": [],
   "source": []
  }
 ],
 "metadata": {
  "kernelspec": {
   "display_name": "Python 3 (ipykernel)",
   "language": "python",
   "name": "python3"
  }
 },
 "nbformat": 4,
 "nbformat_minor": 5
}